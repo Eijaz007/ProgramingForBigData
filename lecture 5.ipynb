{
 "cells": [
  {
   "cell_type": "code",
   "execution_count": 50,
   "id": "f8a8cd40",
   "metadata": {},
   "outputs": [],
   "source": [
    "lst =[1,2,3,4,5]"
   ]
  },
  {
   "cell_type": "code",
   "execution_count": 51,
   "id": "d1265ee6",
   "metadata": {},
   "outputs": [
    {
     "data": {
      "text/plain": [
       "4"
      ]
     },
     "execution_count": 51,
     "metadata": {},
     "output_type": "execute_result"
    }
   ],
   "source": [
    "lst[3]"
   ]
  },
  {
   "cell_type": "code",
   "execution_count": 52,
   "id": "ec55a629",
   "metadata": {},
   "outputs": [
    {
     "data": {
      "text/plain": [
       "[1, 2, 3, 4]"
      ]
     },
     "execution_count": 52,
     "metadata": {},
     "output_type": "execute_result"
    }
   ],
   "source": [
    "lst[0:4]"
   ]
  },
  {
   "cell_type": "code",
   "execution_count": 53,
   "id": "6ef44b5e",
   "metadata": {},
   "outputs": [],
   "source": [
    "ls=lst+[6,7,8,9]"
   ]
  },
  {
   "cell_type": "code",
   "execution_count": 54,
   "id": "c44182c0",
   "metadata": {},
   "outputs": [
    {
     "data": {
      "text/plain": [
       "[1, 2, 3, 4, 5, 6, 7, 8, 9]"
      ]
     },
     "execution_count": 54,
     "metadata": {},
     "output_type": "execute_result"
    }
   ],
   "source": [
    "ls"
   ]
  },
  {
   "cell_type": "code",
   "execution_count": 55,
   "id": "92212b64",
   "metadata": {},
   "outputs": [
    {
     "data": {
      "text/plain": [
       "int"
      ]
     },
     "execution_count": 55,
     "metadata": {},
     "output_type": "execute_result"
    }
   ],
   "source": [
    "type(ls[4])"
   ]
  },
  {
   "cell_type": "code",
   "execution_count": 56,
   "id": "a3152ea1",
   "metadata": {},
   "outputs": [],
   "source": [
    "ls=ls+[\"ucp\",\"hello\",\"world\"]"
   ]
  },
  {
   "cell_type": "code",
   "execution_count": 57,
   "id": "41ddaae2",
   "metadata": {},
   "outputs": [
    {
     "data": {
      "text/plain": [
       "[1, 2, 3, 4, 5, 6, 7, 8, 9, 'ucp', 'hello', 'world']"
      ]
     },
     "execution_count": 57,
     "metadata": {},
     "output_type": "execute_result"
    }
   ],
   "source": [
    "ls"
   ]
  },
  {
   "cell_type": "code",
   "execution_count": 58,
   "id": "d37288e0",
   "metadata": {},
   "outputs": [],
   "source": [
    "ls.extend([3,4,3,2])"
   ]
  },
  {
   "cell_type": "code",
   "execution_count": 59,
   "id": "f424c3a2",
   "metadata": {},
   "outputs": [
    {
     "data": {
      "text/plain": [
       "[1, 2, 3, 4, 5, 6, 7, 8, 9, 'ucp', 'hello', 'world', 3, 4, 3, 2]"
      ]
     },
     "execution_count": 59,
     "metadata": {},
     "output_type": "execute_result"
    }
   ],
   "source": [
    "ls"
   ]
  },
  {
   "cell_type": "code",
   "execution_count": 60,
   "id": "f1f3a526",
   "metadata": {},
   "outputs": [],
   "source": [
    "ls.append([\"ucp\",\"umt\",\"CGs\"])"
   ]
  },
  {
   "cell_type": "code",
   "execution_count": 61,
   "id": "80c76378",
   "metadata": {},
   "outputs": [
    {
     "data": {
      "text/plain": [
       "[1,\n",
       " 2,\n",
       " 3,\n",
       " 4,\n",
       " 5,\n",
       " 6,\n",
       " 7,\n",
       " 8,\n",
       " 9,\n",
       " 'ucp',\n",
       " 'hello',\n",
       " 'world',\n",
       " 3,\n",
       " 4,\n",
       " 3,\n",
       " 2,\n",
       " ['ucp', 'umt', 'CGs']]"
      ]
     },
     "execution_count": 61,
     "metadata": {},
     "output_type": "execute_result"
    }
   ],
   "source": [
    "ls"
   ]
  },
  {
   "cell_type": "code",
   "execution_count": 62,
   "id": "4007dc8e",
   "metadata": {},
   "outputs": [
    {
     "data": {
      "text/plain": [
       "['ucp', 'umt', 'CGs']"
      ]
     },
     "execution_count": 62,
     "metadata": {},
     "output_type": "execute_result"
    }
   ],
   "source": [
    "ls[-1]"
   ]
  },
  {
   "cell_type": "code",
   "execution_count": 63,
   "id": "feaff5e4",
   "metadata": {},
   "outputs": [
    {
     "data": {
      "text/plain": [
       "'t'"
      ]
     },
     "execution_count": 63,
     "metadata": {},
     "output_type": "execute_result"
    }
   ],
   "source": [
    "ls[-1][1][-1]"
   ]
  },
  {
   "cell_type": "code",
   "execution_count": 64,
   "id": "efcfd36e",
   "metadata": {},
   "outputs": [],
   "source": [
    "ls.insert(5,6666666666)"
   ]
  },
  {
   "cell_type": "code",
   "execution_count": 65,
   "id": "cb1286db",
   "metadata": {},
   "outputs": [
    {
     "data": {
      "text/plain": [
       "[1,\n",
       " 2,\n",
       " 3,\n",
       " 4,\n",
       " 5,\n",
       " 6666666666,\n",
       " 6,\n",
       " 7,\n",
       " 8,\n",
       " 9,\n",
       " 'ucp',\n",
       " 'hello',\n",
       " 'world',\n",
       " 3,\n",
       " 4,\n",
       " 3,\n",
       " 2,\n",
       " ['ucp', 'umt', 'CGs']]"
      ]
     },
     "execution_count": 65,
     "metadata": {},
     "output_type": "execute_result"
    }
   ],
   "source": [
    "ls"
   ]
  },
  {
   "cell_type": "code",
   "execution_count": 66,
   "id": "98853f97",
   "metadata": {},
   "outputs": [],
   "source": [
    "del ls[5]\n"
   ]
  },
  {
   "cell_type": "code",
   "execution_count": 67,
   "id": "62e32bc4",
   "metadata": {},
   "outputs": [
    {
     "data": {
      "text/plain": [
       "[1,\n",
       " 2,\n",
       " 3,\n",
       " 4,\n",
       " 5,\n",
       " 6,\n",
       " 7,\n",
       " 8,\n",
       " 9,\n",
       " 'ucp',\n",
       " 'hello',\n",
       " 'world',\n",
       " 3,\n",
       " 4,\n",
       " 3,\n",
       " 2,\n",
       " ['ucp', 'umt', 'CGs']]"
      ]
     },
     "execution_count": 67,
     "metadata": {},
     "output_type": "execute_result"
    }
   ],
   "source": [
    "ls"
   ]
  },
  {
   "cell_type": "code",
   "execution_count": 68,
   "id": "82385119",
   "metadata": {},
   "outputs": [],
   "source": [
    "ls.remove('ucp')"
   ]
  },
  {
   "cell_type": "code",
   "execution_count": 69,
   "id": "08a0c721",
   "metadata": {},
   "outputs": [
    {
     "data": {
      "text/plain": [
       "[1,\n",
       " 2,\n",
       " 3,\n",
       " 4,\n",
       " 5,\n",
       " 6,\n",
       " 7,\n",
       " 8,\n",
       " 9,\n",
       " 'hello',\n",
       " 'world',\n",
       " 3,\n",
       " 4,\n",
       " 3,\n",
       " 2,\n",
       " ['ucp', 'umt', 'CGs']]"
      ]
     },
     "execution_count": 69,
     "metadata": {},
     "output_type": "execute_result"
    }
   ],
   "source": [
    "ls"
   ]
  },
  {
   "cell_type": "code",
   "execution_count": 70,
   "id": "cfd25c67",
   "metadata": {},
   "outputs": [],
   "source": [
    "for x in ls:\n",
    "    if type(x)==str:\n",
    "        ls.remove(x)"
   ]
  },
  {
   "cell_type": "code",
   "execution_count": 71,
   "id": "0ebfa60e",
   "metadata": {},
   "outputs": [
    {
     "data": {
      "text/plain": [
       "[1, 2, 3, 4, 5, 6, 7, 8, 9, 'world', 3, 4, 3, 2, ['ucp', 'umt', 'CGs']]"
      ]
     },
     "execution_count": 71,
     "metadata": {},
     "output_type": "execute_result"
    }
   ],
   "source": [
    "ls"
   ]
  },
  {
   "cell_type": "code",
   "execution_count": 72,
   "id": "2b012bb5",
   "metadata": {},
   "outputs": [],
   "source": [
    "ls.remove('world')"
   ]
  },
  {
   "cell_type": "code",
   "execution_count": 73,
   "id": "09de705b",
   "metadata": {},
   "outputs": [],
   "source": [
    "ls.remove(['ucp','umt','CGs'])"
   ]
  },
  {
   "cell_type": "code",
   "execution_count": 74,
   "id": "45bf2f73",
   "metadata": {},
   "outputs": [],
   "source": [
    "ls.sort()"
   ]
  },
  {
   "cell_type": "code",
   "execution_count": 75,
   "id": "362237fe",
   "metadata": {},
   "outputs": [
    {
     "data": {
      "text/plain": [
       "[1, 2, 2, 3, 3, 3, 4, 4, 5, 6, 7, 8, 9]"
      ]
     },
     "execution_count": 75,
     "metadata": {},
     "output_type": "execute_result"
    }
   ],
   "source": [
    "ls"
   ]
  },
  {
   "cell_type": "code",
   "execution_count": 79,
   "id": "5799b012",
   "metadata": {},
   "outputs": [],
   "source": [
    "ls.sort(reverse=True)"
   ]
  },
  {
   "cell_type": "code",
   "execution_count": 80,
   "id": "f43a9648",
   "metadata": {},
   "outputs": [
    {
     "data": {
      "text/plain": [
       "[9, 8, 7, 6, 5, 4, 4, 3, 3, 3, 2, 2, 1]"
      ]
     },
     "execution_count": 80,
     "metadata": {},
     "output_type": "execute_result"
    }
   ],
   "source": [
    "ls"
   ]
  },
  {
   "cell_type": "code",
   "execution_count": 86,
   "id": "38f0bb9b",
   "metadata": {},
   "outputs": [],
   "source": [
    "d={'country':[\"pakistan\",\"india\",\"china\"],\n",
    "   'city':[\"Lahore\",\"Dehli\",\"Tokyo\"]\n",
    "   \n",
    "  }"
   ]
  },
  {
   "cell_type": "code",
   "execution_count": 87,
   "id": "1e85dcc7",
   "metadata": {},
   "outputs": [
    {
     "data": {
      "text/plain": [
       "{'country': ['pakistan', 'india', 'china'],\n",
       " 'city': ['Lahore', 'Dehli', 'Tokyo']}"
      ]
     },
     "execution_count": 87,
     "metadata": {},
     "output_type": "execute_result"
    }
   ],
   "source": [
    "d"
   ]
  },
  {
   "cell_type": "code",
   "execution_count": 88,
   "id": "4337720e",
   "metadata": {},
   "outputs": [
    {
     "data": {
      "text/plain": [
       "dict_keys(['country', 'city'])"
      ]
     },
     "execution_count": 88,
     "metadata": {},
     "output_type": "execute_result"
    }
   ],
   "source": [
    "d.keys()"
   ]
  },
  {
   "cell_type": "code",
   "execution_count": 91,
   "id": "36380e9c",
   "metadata": {},
   "outputs": [
    {
     "data": {
      "text/plain": [
       "dict_values([['pakistan', 'india', 'china'], ['Lahore', 'Dehli', 'Tokyo']])"
      ]
     },
     "execution_count": 91,
     "metadata": {},
     "output_type": "execute_result"
    }
   ],
   "source": [
    "d.values()"
   ]
  },
  {
   "cell_type": "code",
   "execution_count": 92,
   "id": "3396ce8b",
   "metadata": {},
   "outputs": [
    {
     "data": {
      "text/plain": [
       "dict_items([('country', ['pakistan', 'india', 'china']), ('city', ['Lahore', 'Dehli', 'Tokyo'])])"
      ]
     },
     "execution_count": 92,
     "metadata": {},
     "output_type": "execute_result"
    }
   ],
   "source": [
    "d.items()"
   ]
  },
  {
   "cell_type": "code",
   "execution_count": 94,
   "id": "f848edc4",
   "metadata": {},
   "outputs": [
    {
     "name": "stdout",
     "output_type": "stream",
     "text": [
      "['pakistan', 'india', 'china']\n",
      "['Lahore', 'Dehli', 'Tokyo']\n"
     ]
    }
   ],
   "source": [
    "for v in d.values():\n",
    "    print(v)"
   ]
  },
  {
   "cell_type": "code",
   "execution_count": 95,
   "id": "e02c100b",
   "metadata": {},
   "outputs": [
    {
     "name": "stdout",
     "output_type": "stream",
     "text": [
      "country => ['pakistan', 'india', 'china']\n",
      "city => ['Lahore', 'Dehli', 'Tokyo']\n"
     ]
    }
   ],
   "source": [
    "for k, v in d.items():\n",
    "    print(k,'=>',v)\n",
    "    "
   ]
  },
  {
   "cell_type": "code",
   "execution_count": 96,
   "id": "4ce45e33",
   "metadata": {},
   "outputs": [],
   "source": [
    "import pandas as pd"
   ]
  },
  {
   "cell_type": "code",
   "execution_count": 98,
   "id": "9eba95ce",
   "metadata": {},
   "outputs": [],
   "source": [
    "df=pd.DataFrame.from_dict(d)"
   ]
  },
  {
   "cell_type": "code",
   "execution_count": 99,
   "id": "11afef2d",
   "metadata": {},
   "outputs": [
    {
     "data": {
      "text/html": [
       "<div>\n",
       "<style scoped>\n",
       "    .dataframe tbody tr th:only-of-type {\n",
       "        vertical-align: middle;\n",
       "    }\n",
       "\n",
       "    .dataframe tbody tr th {\n",
       "        vertical-align: top;\n",
       "    }\n",
       "\n",
       "    .dataframe thead th {\n",
       "        text-align: right;\n",
       "    }\n",
       "</style>\n",
       "<table border=\"1\" class=\"dataframe\">\n",
       "  <thead>\n",
       "    <tr style=\"text-align: right;\">\n",
       "      <th></th>\n",
       "      <th>country</th>\n",
       "      <th>city</th>\n",
       "    </tr>\n",
       "  </thead>\n",
       "  <tbody>\n",
       "    <tr>\n",
       "      <th>0</th>\n",
       "      <td>pakistan</td>\n",
       "      <td>Lahore</td>\n",
       "    </tr>\n",
       "    <tr>\n",
       "      <th>1</th>\n",
       "      <td>india</td>\n",
       "      <td>Dehli</td>\n",
       "    </tr>\n",
       "    <tr>\n",
       "      <th>2</th>\n",
       "      <td>china</td>\n",
       "      <td>Tokyo</td>\n",
       "    </tr>\n",
       "  </tbody>\n",
       "</table>\n",
       "</div>"
      ],
      "text/plain": [
       "    country    city\n",
       "0  pakistan  Lahore\n",
       "1     india   Dehli\n",
       "2     china   Tokyo"
      ]
     },
     "execution_count": 99,
     "metadata": {},
     "output_type": "execute_result"
    }
   ],
   "source": [
    "df"
   ]
  },
  {
   "cell_type": "code",
   "execution_count": 101,
   "id": "5614a32d",
   "metadata": {},
   "outputs": [],
   "source": [
    "df.to_csv(r'sd.csv',index=False,header=True)"
   ]
  },
  {
   "cell_type": "code",
   "execution_count": null,
   "id": "23d38191",
   "metadata": {},
   "outputs": [],
   "source": []
  }
 ],
 "metadata": {
  "kernelspec": {
   "display_name": "Python 3 (ipykernel)",
   "language": "python",
   "name": "python3"
  },
  "language_info": {
   "codemirror_mode": {
    "name": "ipython",
    "version": 3
   },
   "file_extension": ".py",
   "mimetype": "text/x-python",
   "name": "python",
   "nbconvert_exporter": "python",
   "pygments_lexer": "ipython3",
   "version": "3.9.7"
  }
 },
 "nbformat": 4,
 "nbformat_minor": 5
}
