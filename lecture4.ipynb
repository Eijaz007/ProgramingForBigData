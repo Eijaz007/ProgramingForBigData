{
 "cells": [
  {
   "cell_type": "code",
   "execution_count": 43,
   "id": "e0de2dbd",
   "metadata": {},
   "outputs": [],
   "source": [
    "string=\"university of central  punjab\""
   ]
  },
  {
   "cell_type": "code",
   "execution_count": 44,
   "id": "ca373cfe",
   "metadata": {},
   "outputs": [
    {
     "data": {
      "text/plain": [
       "str"
      ]
     },
     "execution_count": 44,
     "metadata": {},
     "output_type": "execute_result"
    }
   ],
   "source": [
    "type(string[0])"
   ]
  },
  {
   "cell_type": "code",
   "execution_count": 45,
   "id": "ff681fc9",
   "metadata": {
    "scrolled": true
   },
   "outputs": [
    {
     "name": "stdout",
     "output_type": "stream",
     "text": [
      "u\n"
     ]
    }
   ],
   "source": [
    "print(string[0])"
   ]
  },
  {
   "cell_type": "code",
   "execution_count": 46,
   "id": "50d383c4",
   "metadata": {},
   "outputs": [
    {
     "data": {
      "text/plain": [
       "'b'"
      ]
     },
     "execution_count": 46,
     "metadata": {},
     "output_type": "execute_result"
    }
   ],
   "source": [
    "string[-1]"
   ]
  },
  {
   "cell_type": "code",
   "execution_count": 47,
   "id": "934bcf89",
   "metadata": {},
   "outputs": [
    {
     "data": {
      "text/plain": [
       "'punj'"
      ]
     },
     "execution_count": 47,
     "metadata": {},
     "output_type": "execute_result"
    }
   ],
   "source": [
    "string[-6:-2]"
   ]
  },
  {
   "cell_type": "code",
   "execution_count": 48,
   "id": "95862c6e",
   "metadata": {},
   "outputs": [
    {
     "data": {
      "text/plain": [
       "'university'"
      ]
     },
     "execution_count": 48,
     "metadata": {},
     "output_type": "execute_result"
    }
   ],
   "source": [
    "string[0:10:1]"
   ]
  },
  {
   "cell_type": "code",
   "execution_count": 49,
   "id": "36726785",
   "metadata": {},
   "outputs": [],
   "source": [
    "city=\"Lahore\""
   ]
  },
  {
   "cell_type": "code",
   "execution_count": 50,
   "id": "10dc9c45",
   "metadata": {},
   "outputs": [],
   "source": [
    "province=\"Punjab\""
   ]
  },
  {
   "cell_type": "code",
   "execution_count": 51,
   "id": "c84c5758",
   "metadata": {},
   "outputs": [],
   "source": [
    "place=city+\" \"+province"
   ]
  },
  {
   "cell_type": "code",
   "execution_count": 52,
   "id": "904ad43b",
   "metadata": {},
   "outputs": [
    {
     "name": "stdout",
     "output_type": "stream",
     "text": [
      "Lahore Punjab\n"
     ]
    }
   ],
   "source": [
    "print(place)"
   ]
  },
  {
   "cell_type": "code",
   "execution_count": 53,
   "id": "c4cd0f49",
   "metadata": {},
   "outputs": [],
   "source": [
    "ucp=string+\", \"+place"
   ]
  },
  {
   "cell_type": "code",
   "execution_count": 54,
   "id": "1218714b",
   "metadata": {},
   "outputs": [
    {
     "data": {
      "text/plain": [
       "'university of central  punjab, lahore punjab'"
      ]
     },
     "execution_count": 54,
     "metadata": {},
     "output_type": "execute_result"
    }
   ],
   "source": [
    "ucp.lower()"
   ]
  },
  {
   "cell_type": "code",
   "execution_count": 55,
   "id": "c9ee1e0d",
   "metadata": {},
   "outputs": [
    {
     "data": {
      "text/plain": [
       "'UNIVERSITY OF CENTRAL  PUNJAB, LAHORE PUNJAB'"
      ]
     },
     "execution_count": 55,
     "metadata": {},
     "output_type": "execute_result"
    }
   ],
   "source": [
    "ucp.upper()"
   ]
  },
  {
   "cell_type": "code",
   "execution_count": 56,
   "id": "05bf3098",
   "metadata": {},
   "outputs": [
    {
     "data": {
      "text/plain": [
       "'University Of Central  Punjab, Lahore Punjab'"
      ]
     },
     "execution_count": 56,
     "metadata": {},
     "output_type": "execute_result"
    }
   ],
   "source": [
    "ucp.title()"
   ]
  },
  {
   "cell_type": "code",
   "execution_count": 57,
   "id": "8b152616",
   "metadata": {},
   "outputs": [
    {
     "data": {
      "text/plain": [
       "'university'"
      ]
     },
     "execution_count": 57,
     "metadata": {},
     "output_type": "execute_result"
    }
   ],
   "source": [
    "ucp[0:10].lower()"
   ]
  },
  {
   "cell_type": "code",
   "execution_count": 58,
   "id": "c4e33eb9",
   "metadata": {},
   "outputs": [
    {
     "data": {
      "text/plain": [
       "False"
      ]
     },
     "execution_count": 58,
     "metadata": {},
     "output_type": "execute_result"
    }
   ],
   "source": [
    "\"ucp\" in ucp"
   ]
  },
  {
   "cell_type": "code",
   "execution_count": 59,
   "id": "2d4eba68",
   "metadata": {},
   "outputs": [
    {
     "data": {
      "text/plain": [
       "True"
      ]
     },
     "execution_count": 59,
     "metadata": {},
     "output_type": "execute_result"
    }
   ],
   "source": [
    "\"university\" in ucp"
   ]
  },
  {
   "cell_type": "code",
   "execution_count": 64,
   "id": "29ae57e3",
   "metadata": {},
   "outputs": [
    {
     "name": "stdout",
     "output_type": "stream",
     "text": [
      "true\n"
     ]
    }
   ],
   "source": [
    "for x in ucp:\n",
    "    if x==\"u\":\n",
    "        print(\"true\")\n",
    "        break\n",
    "    else:\n",
    "        print(\"false\")"
   ]
  },
  {
   "cell_type": "code",
   "execution_count": 65,
   "id": "d4cec368",
   "metadata": {},
   "outputs": [
    {
     "data": {
      "text/plain": [
       "['university', 'of', 'central', '', 'punjab,', 'Lahore', 'Punjab']"
      ]
     },
     "execution_count": 65,
     "metadata": {},
     "output_type": "execute_result"
    }
   ],
   "source": [
    "ucp.split(\" \")"
   ]
  },
  {
   "cell_type": "code",
   "execution_count": 66,
   "id": "05e2ae0c",
   "metadata": {},
   "outputs": [],
   "source": [
    "ucpHistory=\"On 15 August 1996, The Punjab Group of Colleges petitioned Government of Punjab for the establishment of a university in the province. \\Punjab Institute of Computer Science (PICS), Punjab College of Commerce (PCC), Punjab Law College (PLC) and Punjab College of Information Technology (PCIT) formed the core of the university at the time of establishment.Following a restructuring in 2004, the PCBA and PICS operate under the Faculty of Management Studies and Faculty of Information Technology of the University of Central Punjab respectively. The Punjab Colleges of Commerce and the Punjab Law College respectively function under the Faculties of Commerce and of Law of the University of Central Punjab. The Faculty of Engineering (FOE) was introduced in 2002.\""
   ]
  },
  {
   "cell_type": "code",
   "execution_count": 67,
   "id": "03d2f567",
   "metadata": {},
   "outputs": [
    {
     "data": {
      "text/plain": [
       "'On 15 August 1996, The Punjab Group of Colleges petitioned Government of Punjab for the establishment of a university in the province. \\\\Punjab Institute of Computer Science (PICS), Punjab College of Commerce (PCC), Punjab Law College (PLC) and Punjab College of Information Technology (PCIT) formed the core of the university at the time of establishment.Following a restructuring in 2004, the PCBA and PICS operate under the Faculty of Management Studies and Faculty of Information Technology of the University of Central Punjab respectively. The Punjab Colleges of Commerce and the Punjab Law College respectively function under the Faculties of Commerce and of Law of the University of Central Punjab. The Faculty of Engineering (FOE) was introduced in 2002.'"
      ]
     },
     "execution_count": 67,
     "metadata": {},
     "output_type": "execute_result"
    }
   ],
   "source": [
    "ucpHistory"
   ]
  },
  {
   "cell_type": "code",
   "execution_count": 73,
   "id": "9de7a86c",
   "metadata": {},
   "outputs": [
    {
     "name": "stdout",
     "output_type": "stream",
     "text": [
      "117\n"
     ]
    }
   ],
   "source": [
    "#Task 1\n",
    "\n",
    "\n",
    "count=0\n",
    "for i in ucpHistory:\n",
    "    if i==\" \":\n",
    "        count+=1\n",
    "print(count+1)\n",
    "\n",
    "\n"
   ]
  },
  {
   "cell_type": "code",
   "execution_count": null,
   "id": "1940a4d0",
   "metadata": {},
   "outputs": [],
   "source": [
    "#Task 2\n",
    "count=0\n",
    "check=0\n",
    "for i in ucpHistory:\n",
    "    count+=1\n",
    "print(count)\n",
    "i=0\n",
    "check=0\n",
    "while i < count-1:\n",
    "    if ucpHistory[i]==\"o\":\n",
    "        if ucpHistory[i+1]==\"f\":\n",
    "            i+=1\n",
    "            i+=1\n",
    "            check=1\n",
    "    if check ==1:\n",
    "        check=0\n",
    "        print(check)\n",
    "    else:\n",
    "        i+=1\n",
    "\n",
    "        \n",
    "            \n",
    "            "
   ]
  },
  {
   "cell_type": "code",
   "execution_count": null,
   "id": "956e1a29",
   "metadata": {},
   "outputs": [],
   "source": []
  }
 ],
 "metadata": {
  "kernelspec": {
   "display_name": "Python 3",
   "language": "python",
   "name": "python3"
  },
  "language_info": {
   "codemirror_mode": {
    "name": "ipython",
    "version": 3
   },
   "file_extension": ".py",
   "mimetype": "text/x-python",
   "name": "python",
   "nbconvert_exporter": "python",
   "pygments_lexer": "ipython3",
   "version": "3.8.8"
  }
 },
 "nbformat": 4,
 "nbformat_minor": 5
}
